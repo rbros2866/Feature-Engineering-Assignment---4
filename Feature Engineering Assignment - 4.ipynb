{
 "cells": [
  {
   "cell_type": "markdown",
   "metadata": {},
   "source": [
    "**Q1.** What is the difference between Ordinal Encoding and Label Encoding? Provide an example of when you\n",
    "might choose one over the other."
   ]
  },
  {
   "cell_type": "markdown",
   "metadata": {},
   "source": [
    "**Label Encoding:**\n",
    "\n",
    "In label encoding, each unique category in a categorical variable is assigned a unique numerical label.\n",
    "\n",
    "For instance, if you have categories like \"red,\" \"green,\" and \"blue,\" they might be encoded as 0, 1, and 2, respectively.\n",
    "\n",
    "Label encoding doesn't impose any ordinal relationship among the categories. It merely converts them to numerical form.\n",
    "\n",
    "**Ordinal Encoding:**\n",
    "\n",
    "Ordinal encoding, on the other hand, is used when there is an inherent order or ranking among the categories.\n",
    "\n",
    "It assigns numerical labels to categories based on their order or rank.\n",
    "\n",
    "For example, if you have a variable representing education levels like \"high school,\" \"college,\" and \"graduate,\" you might encode them as 0, 1, and 2, respectively, reflecting their increasing levels of education."
   ]
  },
  {
   "cell_type": "markdown",
   "metadata": {},
   "source": [
    "**When to Choose Each:**\n",
    "\n",
    "**Label Encoding** is suitable when the categorical values don’t have an inherent order or ranking. For example, when dealing with color categories or other nominal values.\n",
    "\n",
    "**Ordinal Encoding** should be used when the categories have a clear order or hierarchy. For instance, when dealing with education levels, satisfaction levels (low, medium, high), or economic status (low, medium, high)."
   ]
  },
  {
   "cell_type": "markdown",
   "metadata": {},
   "source": [
    "**Q2.** Explain how Target Guided Ordinal Encoding works and provide an example of when you might use it in\n",
    "a machine learning project."
   ]
  },
  {
   "cell_type": "markdown",
   "metadata": {},
   "source": [
    "Target Guided Ordinal Encoding is a technique used to encode categorical variables based on the target variable's mean or some other measure. It's particularly useful when there's a need to capture the relationship between the categorical feature and the target variable in a supervised learning scenario."
   ]
  },
  {
   "cell_type": "markdown",
   "metadata": {},
   "source": [
    "**Grouping by Categories:**\n",
    "\n",
    "Group the categorical variable by its categories.\n",
    "\n",
    "**Calculating Aggregates:**\n",
    "\n",
    "For each category, calculate a statistical aggregate (like mean, median, etc.) of the target variable within that category.\n",
    "\n",
    "**Ordinal Encoding:**\n",
    "\n",
    "Order these categories based on the calculated aggregates. The ordering represents the strength of the relationship between the category and the target variable.\n",
    "\n",
    "**Assigning Labels:**\n",
    "\n",
    "Assign ordinal labels (numbers) based on this ordering."
   ]
  },
  {
   "cell_type": "markdown",
   "metadata": {},
   "source": [
    "**Example Usage:**\n",
    "\n",
    "In a machine learning project predicting customer default rates for a credit card company, if you have a categorical variable like \"Credit Score Ranges\" and the target variable is \"Default Status\" (defaulted or not defaulted), you might use Target Guided Ordinal Encoding. By grouping credit score ranges and ordering them based on default rates within each range, you can assign ordinal labels indicating the likelihood of defaulting based on the credit score range.\n",
    "\n",
    "This encoding method helps capture the relationship between categorical variables and the target, potentially improving the model's predictive power by leveraging the information present in the target variable during encoding."
   ]
  },
  {
   "cell_type": "markdown",
   "metadata": {},
   "source": [
    "**Q3.** Define covariance and explain why it is important in statistical analysis. How is covariance calculated?"
   ]
  },
  {
   "cell_type": "markdown",
   "metadata": {},
   "source": [
    "Covariance is a statistical measure that describes the relationship between two random variables. It signifies how much two variables change together. If the covariance between two variables is positive, it means that they tend to increase or decrease together. Conversely, if the covariance is negative, it means that when one variable increases, the other tends to decrease."
   ]
  },
  {
   "cell_type": "markdown",
   "metadata": {},
   "source": [
    "**Understanding Relationships:** Covariance helps determine whether two variables move in tandem or inversely. For example, it can indicate how the stock prices of two companies move concerning each other.\n",
    "\n",
    "**Portfolio Diversification:** In finance, covariance helps in portfolio management by understanding how different assets move in relation to each other. Low or negative covariance between assets can help reduce overall portfolio risk through diversification.\n",
    "\n",
    "**Modeling Relationships:** When building predictive models, understanding covariance can assist in feature selection and understanding multicollinearity among predictors."
   ]
  },
  {
   "cell_type": "markdown",
   "metadata": {},
   "source": [
    "he formula to calculate the covariance between two variables X and Y, with n data points, is expressed as:\n",
    "\n",
    "Cov(X,Y)= \n",
    "\n",
    "∑ \n",
    "i=1\n",
    "n\n",
    "​\n",
    " (X \n",
    "i\n",
    "​\n",
    " − \n",
    "X\n",
    "ˉ\n",
    " )(Y \n",
    "i\n",
    "​\n",
    " − \n",
    "Y\n",
    "ˉ\n",
    " )/n−1\n",
    "​\n"
   ]
  },
  {
   "cell_type": "markdown",
   "metadata": {},
   "source": [
    "**Q4.** For a dataset with the following categorical variables: Color (red, green, blue), Size (small, medium,\n",
    "large), and Material (wood, metal, plastic), perform label encoding using Python's scikit-learn library.\n",
    "Show your code and explain the output."
   ]
  },
  {
   "cell_type": "code",
   "execution_count": 6,
   "metadata": {},
   "outputs": [
    {
     "name": "stdout",
     "output_type": "stream",
     "text": [
      "   Color    Size Material  Color_encoded  Size_encoded  Material_encoded\n",
      "0    red   small     wood              2             2                 2\n",
      "1  green   large    metal              1             0                 0\n",
      "2   blue  medium  plastic              0             1                 1\n",
      "3  green   small     wood              1             2                 2\n",
      "4    red   large    metal              2             0                 0\n"
     ]
    }
   ],
   "source": [
    "from sklearn.preprocessing import LabelEncoder\n",
    "import pandas as pd\n",
    "\n",
    "# Sample data\n",
    "data = {\n",
    "    'Color': ['red', 'green', 'blue', 'green', 'red'],\n",
    "    'Size': ['small', 'large', 'medium', 'small', 'large'],\n",
    "    'Material': ['wood', 'metal', 'plastic', 'wood', 'metal']\n",
    "}\n",
    "\n",
    "# Initialize LabelEncoder\n",
    "label_encoder = LabelEncoder()\n",
    "\n",
    "df = pd.DataFrame(data)\n",
    "\n",
    "# Apply label encoding to each categorical column\n",
    "for column in df.columns:\n",
    "    df[column + '_encoded'] = label_encoder.fit_transform(df[column])\n",
    "\n",
    "# Display the encoded data\n",
    "print(df)\n"
   ]
  },
  {
   "cell_type": "markdown",
   "metadata": {},
   "source": [
    "This code snippet initializes a LabelEncoder, iterates through each categorical column in the sample data, applies label encoding to each column, and creates new columns with '_encoded' suffixes to store the encoded values."
   ]
  },
  {
   "cell_type": "markdown",
   "metadata": {},
   "source": [
    "**Q5.** Calculate the covariance matrix for the following variables in a dataset: Age, Income, and Education\n",
    "level. Interpret the results."
   ]
  },
  {
   "cell_type": "code",
   "execution_count": 10,
   "metadata": {},
   "outputs": [
    {
     "name": "stdout",
     "output_type": "stream",
     "text": [
      "Covariance Matrix:\n",
      "[[6.250e+01 1.125e+05 1.000e+01]\n",
      " [1.125e+05 2.550e+08 2.625e+04]\n",
      " [1.000e+01 2.625e+04 5.000e+00]]\n"
     ]
    }
   ],
   "source": [
    "import numpy as np\n",
    "\n",
    "# Sample data\n",
    "age = [25, 30, 35, 40, 45]\n",
    "income = [50000, 60000, 75000, 90000, 80000]\n",
    "education_level = [12, 16, 14, 18, 15]\n",
    "\n",
    "# Create a 2D array or matrix with the variables\n",
    "data_matrix = np.array([age, income, education_level])\n",
    "\n",
    "covariance_matrix = np.cov(data_matrix)\n",
    "\n",
    "print(\"Covariance Matrix:\")\n",
    "print(covariance_matrix)\n"
   ]
  },
  {
   "cell_type": "markdown",
   "metadata": {},
   "source": [
    "**Diagonal Elements:** The diagonal elements of the covariance matrix represent the variances of each variable. For example, the top-left element is the variance of Age, the second element is the variance of Income, and the bottom-right element is the variance of Education level.\n",
    "\n",
    "**Off-diagonal Elements:** The off-diagonal elements represent the covariances between pairs of variables. For instance, the element at row 1, column 2 (or row 2, column 1) is the covariance between Age and Income. Similarly, the element at row 1, column 3 (or row 3, column 1) is the covariance between Age and Education level, and so on."
   ]
  },
  {
   "cell_type": "markdown",
   "metadata": {},
   "source": [
    "**Q6.** You are working on a machine learning project with a dataset containing several categorical\n",
    "variables, including \"Gender\" (Male/Female), \"Education Level\" (High School/Bachelor's/Master's/PhD),\n",
    "and \"Employment Status\" (Unemployed/Part-Time/Full-Time). Which encoding method would you use for\n",
    "each variable, and why?"
   ]
  },
  {
   "cell_type": "markdown",
   "metadata": {},
   "source": [
    "**Gender (Binary Categorical Variable - Male/Female):**\n",
    "\n",
    "For a binary categorical variable like Gender, using Label Encoding might be suitable. Assigning 0 to one category and 1 to the other retains the necessary information without implying any ordinal relationship between the categories.\n",
    "\n",
    "**Education Level (Ordinal Categorical Variable - High School/Bachelor's/Master's/PhD):**\n",
    "\n",
    "Since Education Level has an inherent order (High School < Bachelor's < Master's < PhD), Ordinal Encoding would be appropriate. Assigning numerical labels based on the hierarchy maintains the ordinal relationship among the categories.\n",
    "\n",
    "**Employment Status (Nominal Categorical Variable - Unemployed/Part-Time/Full-Time):**\n",
    "\n",
    "For nominal categorical variables like Employment Status without a specific order, One-Hot Encoding would work well. It creates binary columns for each category, avoiding any implied order or hierarchy among the categories."
   ]
  },
  {
   "cell_type": "markdown",
   "metadata": {},
   "source": [
    "**Q7.** You are analyzing a dataset with two continuous variables, \"Temperature\" and \"Humidity\", and two\n",
    "categorical variables, \"Weather Condition\" (Sunny/Cloudy/Rainy) and \"Wind Direction\" (North/South/\n",
    "East/West). Calculate the covariance between each pair of variables and interpret the results."
   ]
  },
  {
   "cell_type": "code",
   "execution_count": 13,
   "metadata": {},
   "outputs": [
    {
     "name": "stdout",
     "output_type": "stream",
     "text": [
      "Covariance between Temperature and Humidity: -7.0\n"
     ]
    }
   ],
   "source": [
    "import numpy as np\n",
    "\n",
    "# Sample data\n",
    "temperature = [25, 28, 30, 22, 27] \n",
    "humidity = [60, 55, 70, 75, 65]    \n",
    "\n",
    "weather_condition = ['Sunny', 'Cloudy', 'Rainy', 'Sunny', 'Rainy']  \n",
    "wind_direction = ['North', 'South', 'East', 'West', 'North']       \n",
    "\n",
    "# Calculate the covariance between temperature and humidity\n",
    "cov_temp_humidity = np.cov(temperature, humidity, bias=True)[1][0]\n",
    "print(f\"Covariance between Temperature and Humidity: {cov_temp_humidity}\")\n",
    "\n",
    "#covariance between categorical variables doesn't make sense\n"
   ]
  },
  {
   "cell_type": "markdown",
   "metadata": {},
   "source": [
    "**Covariance between Temperature and Humidity:** The calculated value represents the covariance between these two continuous variables. A neagtive covariance indicates that as one variable tends to increase, the other tends to decrese"
   ]
  }
 ],
 "metadata": {
  "kernelspec": {
   "display_name": "Python 3",
   "language": "python",
   "name": "python3"
  },
  "language_info": {
   "codemirror_mode": {
    "name": "ipython",
    "version": 3
   },
   "file_extension": ".py",
   "mimetype": "text/x-python",
   "name": "python",
   "nbconvert_exporter": "python",
   "pygments_lexer": "ipython3",
   "version": "3.11.1"
  }
 },
 "nbformat": 4,
 "nbformat_minor": 2
}
